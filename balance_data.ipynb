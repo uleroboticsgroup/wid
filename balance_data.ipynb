{
 "cells": [
  {
   "cell_type": "code",
   "execution_count": 1,
   "id": "7f5ec776-9543-45e3-b438-357f74ef1eb3",
   "metadata": {},
   "outputs": [],
   "source": [
    "from matplotlib import pyplot as plt\n",
    "import os \n",
    "import matplotlib.image as mpimg\n",
    "import cv2\n",
    "import pandas as pd"
   ]
  },
  {
   "cell_type": "code",
   "execution_count": 2,
   "id": "9e6fec4e-50dd-4722-8dba-155ab0ca8977",
   "metadata": {},
   "outputs": [],
   "source": [
    "PATH = 'surfaces'\n",
    "classes = ['Ok', 'Defects']"
   ]
  },
  {
   "cell_type": "code",
   "execution_count": 3,
   "id": "b559d670-cf6b-4b8d-bb4c-ff5e2bf2dac7",
   "metadata": {},
   "outputs": [
    {
     "data": {
      "text/plain": [
       "['Piece01', 'Piece02', 'Piece03', 'Piece04']"
      ]
     },
     "execution_count": 3,
     "metadata": {},
     "output_type": "execute_result"
    }
   ],
   "source": [
    "piezas = os.listdir(PATH)\n",
    "piezas.sort()\n",
    "piezas"
   ]
  },
  {
   "cell_type": "code",
   "execution_count": 4,
   "id": "d5f001d8-4fb0-4176-b320-0b20351e9489",
   "metadata": {},
   "outputs": [],
   "source": [
    "piezas_imgs = []\n",
    "for p in piezas:\n",
    "    imgs = [f for f in os.listdir(os.path.join(PATH,p)) if os.path.isfile(os.path.join(PATH,p,f))]\n",
    "    piezas_imgs.append(os.path.join(PATH,p,imgs[0]))"
   ]
  },
  {
   "cell_type": "code",
   "execution_count": 5,
   "id": "08ed5af8-1e9d-4ff1-9db8-18bd733699db",
   "metadata": {},
   "outputs": [],
   "source": [
    "columns = ['pieza',  'type', 'path', 'file']\n",
    "df = pd.DataFrame(columns=columns)\n",
    "for p in piezas:\n",
    "    for c in classes:\n",
    "        images = [[p,c,os.path.join(PATH,p,c,i), i]for i in os.listdir(os.path.join(PATH,p,c))]\n",
    "        dfp = pd.DataFrame(images, columns=columns)\n",
    "        df = pd.concat([df,dfp])"
   ]
  },
  {
   "cell_type": "code",
   "execution_count": 6,
   "id": "c5906280-d080-403e-9b0d-ca18b037874c",
   "metadata": {},
   "outputs": [
    {
     "data": {
      "text/html": [
       "<div>\n",
       "<style scoped>\n",
       "    .dataframe tbody tr th:only-of-type {\n",
       "        vertical-align: middle;\n",
       "    }\n",
       "\n",
       "    .dataframe tbody tr th {\n",
       "        vertical-align: top;\n",
       "    }\n",
       "\n",
       "    .dataframe thead th {\n",
       "        text-align: right;\n",
       "    }\n",
       "</style>\n",
       "<table border=\"1\" class=\"dataframe\">\n",
       "  <thead>\n",
       "    <tr style=\"text-align: right;\">\n",
       "      <th></th>\n",
       "      <th>pieza</th>\n",
       "      <th>type</th>\n",
       "      <th>path</th>\n",
       "      <th>file</th>\n",
       "    </tr>\n",
       "  </thead>\n",
       "  <tbody>\n",
       "    <tr>\n",
       "      <th>0</th>\n",
       "      <td>Piece01</td>\n",
       "      <td>Defects</td>\n",
       "      <td>surfaces\\Piece01\\Defects\\foto211.tif</td>\n",
       "      <td>foto211.tif</td>\n",
       "    </tr>\n",
       "    <tr>\n",
       "      <th>1</th>\n",
       "      <td>Piece01</td>\n",
       "      <td>Defects</td>\n",
       "      <td>surfaces\\Piece01\\Defects\\foto316.tif</td>\n",
       "      <td>foto316.tif</td>\n",
       "    </tr>\n",
       "    <tr>\n",
       "      <th>2</th>\n",
       "      <td>Piece01</td>\n",
       "      <td>Defects</td>\n",
       "      <td>surfaces\\Piece01\\Defects\\foto284.tif</td>\n",
       "      <td>foto284.tif</td>\n",
       "    </tr>\n",
       "    <tr>\n",
       "      <th>3</th>\n",
       "      <td>Piece01</td>\n",
       "      <td>Defects</td>\n",
       "      <td>surfaces\\Piece01\\Defects\\foto359.tif</td>\n",
       "      <td>foto359.tif</td>\n",
       "    </tr>\n",
       "    <tr>\n",
       "      <th>4</th>\n",
       "      <td>Piece01</td>\n",
       "      <td>Defects</td>\n",
       "      <td>surfaces\\Piece01\\Defects\\foto623.tif</td>\n",
       "      <td>foto623.tif</td>\n",
       "    </tr>\n",
       "  </tbody>\n",
       "</table>\n",
       "</div>"
      ],
      "text/plain": [
       "     pieza     type                                  path         file\n",
       "0  Piece01  Defects  surfaces\\Piece01\\Defects\\foto211.tif  foto211.tif\n",
       "1  Piece01  Defects  surfaces\\Piece01\\Defects\\foto316.tif  foto316.tif\n",
       "2  Piece01  Defects  surfaces\\Piece01\\Defects\\foto284.tif  foto284.tif\n",
       "3  Piece01  Defects  surfaces\\Piece01\\Defects\\foto359.tif  foto359.tif\n",
       "4  Piece01  Defects  surfaces\\Piece01\\Defects\\foto623.tif  foto623.tif"
      ]
     },
     "execution_count": 6,
     "metadata": {},
     "output_type": "execute_result"
    }
   ],
   "source": [
    "df.head()"
   ]
  },
  {
   "cell_type": "code",
   "execution_count": 7,
   "id": "7817a1ab-bff5-4a42-ad3e-b420871b35b0",
   "metadata": {},
   "outputs": [],
   "source": [
    "from sklearn.utils import resample\n",
    "from sklearn.model_selection import StratifiedKFold\n",
    "from collections import Counter\n",
    "from tensorflow.keras.preprocessing.image import ImageDataGenerator"
   ]
  },
  {
   "cell_type": "code",
   "execution_count": 14,
   "id": "306cb1cd-9a79-4009-b2d8-ace04929710c",
   "metadata": {},
   "outputs": [],
   "source": [
    "# Undersampling: igualar clase mayoritaria al tamaño menor\n",
    "def undersample(df, target_col='type'):\n",
    "    df_majority = df[df[target_col] == 'Defects']\n",
    "    df_minority = df[df[target_col] == 'Ok']\n",
    "    df_majority_downsampled = resample(df_majority, replace=False,\n",
    "                                      n_samples=len(df_minority),\n",
    "                                      random_state=42)\n",
    "    df_balanced = pd.concat([df_majority_downsampled, df_minority])\n",
    "    return df_balanced.sample(frac=1).reset_index(drop=True)  # barajar\n",
    "\n",
    "# Data augmentation (configuración ejemplo, aplicar en carga imágenes)\n",
    "def get_augmentation_generator():\n",
    "    return ImageDataGenerator(rotation_range=20,\n",
    "                              width_shift_range=0.1,\n",
    "                              height_shift_range=0.1,\n",
    "                              horizontal_flip=True)\n",
    "\n",
    "# Validación cruzada estratificada\n",
    "def stratified_cross_val(df, target_col='type', n_splits=5):\n",
    "    skf = StratifiedKFold(n_splits=n_splits, shuffle=True, random_state=42)\n",
    "    for train_idx, test_idx in skf.split(df, df[target_col]):\n",
    "        df_train = df.iloc[train_idx]\n",
    "        df_test = df.iloc[test_idx]\n",
    "        print('Train class distribution:', Counter(df_train[target_col]))\n",
    "        print('Test class distribution:', Counter(df_test[target_col]))\n",
    "        # Aquí se puede insertar código de entrenamiento y evaluación"
   ]
  },
  {
   "cell_type": "code",
   "execution_count": 15,
   "id": "ddeb69d8-3b08-4c2e-bf56-647805ca54d5",
   "metadata": {},
   "outputs": [
    {
     "name": "stdout",
     "output_type": "stream",
     "text": [
      "Distribución original: Counter({'Defects': 440, 'Ok': 153})\n",
      "Distribución tras undersampling: Counter({'Defects': 153, 'Ok': 153})\n"
     ]
    }
   ],
   "source": [
    "print('Distribución original:', Counter(df['type']))\n",
    "\n",
    "balanced_df = undersample(df)\n",
    "print('Distribución tras undersampling:', Counter(balanced_df['type']))"
   ]
  },
  {
   "cell_type": "code",
   "execution_count": 16,
   "id": "65ec10c1-0074-4650-a89d-ffabf5588e32",
   "metadata": {},
   "outputs": [
    {
     "name": "stdout",
     "output_type": "stream",
     "text": [
      "Train class distribution: Counter({'Defects': 352, 'Ok': 122})\n",
      "Test class distribution: Counter({'Defects': 88, 'Ok': 31})\n",
      "Train class distribution: Counter({'Defects': 352, 'Ok': 122})\n",
      "Test class distribution: Counter({'Defects': 88, 'Ok': 31})\n",
      "Train class distribution: Counter({'Defects': 352, 'Ok': 122})\n",
      "Test class distribution: Counter({'Defects': 88, 'Ok': 31})\n",
      "Train class distribution: Counter({'Defects': 352, 'Ok': 123})\n",
      "Test class distribution: Counter({'Defects': 88, 'Ok': 30})\n",
      "Train class distribution: Counter({'Defects': 352, 'Ok': 123})\n",
      "Test class distribution: Counter({'Defects': 88, 'Ok': 30})\n"
     ]
    }
   ],
   "source": [
    "stratified_cross_val(df)"
   ]
  },
  {
   "cell_type": "code",
   "execution_count": null,
   "id": "4c39353b-c8a4-4087-870f-ed4b728aef8c",
   "metadata": {},
   "outputs": [],
   "source": []
  }
 ],
 "metadata": {
  "kernelspec": {
   "display_name": "Python 3 (ipykernel)",
   "language": "python",
   "name": "python3"
  },
  "language_info": {
   "codemirror_mode": {
    "name": "ipython",
    "version": 3
   },
   "file_extension": ".py",
   "mimetype": "text/x-python",
   "name": "python",
   "nbconvert_exporter": "python",
   "pygments_lexer": "ipython3",
   "version": "3.10.15"
  }
 },
 "nbformat": 4,
 "nbformat_minor": 5
}
