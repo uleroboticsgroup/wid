{
 "cells": [
  {
   "cell_type": "code",
   "execution_count": 1,
   "id": "0f3ba44f-a1e0-4929-9b22-5dcd1f4a88a7",
   "metadata": {},
   "outputs": [],
   "source": [
    "import os\n",
    "import pandas as pd"
   ]
  },
  {
   "cell_type": "code",
   "execution_count": 2,
   "id": "0af17ed7-60a2-4a94-a5a6-e5f623198368",
   "metadata": {},
   "outputs": [],
   "source": [
    "PATH = 'surfaces'"
   ]
  },
  {
   "cell_type": "code",
   "execution_count": 3,
   "id": "496e0824-7408-4e48-bb17-d11d5cd1053d",
   "metadata": {},
   "outputs": [],
   "source": [
    "columns = ['Piece', 'Category', 'Image']\n",
    "df = pd.DataFrame(columns = columns)\n",
    "\n",
    "for p in os.listdir(PATH):\n",
    "    #print(p)\n",
    "    for t in ['Ok', 'Defects']:\n",
    "        for f in os.listdir(os.path.join(PATH,p,t)):\n",
    "            #print([p,t,f])\n",
    "            df_row = pd.DataFrame([[p,t,f]],columns = columns)\n",
    "            df = pd.concat([df,df_row])"
   ]
  },
  {
   "cell_type": "code",
   "execution_count": 4,
   "id": "ad7708ce-3935-4cc0-b5b5-250737028537",
   "metadata": {},
   "outputs": [],
   "source": [
    "PATH = 'surfaces_lidia'"
   ]
  },
  {
   "cell_type": "code",
   "execution_count": 5,
   "id": "50784f74-edcd-4da7-9cbb-80e67c8d0232",
   "metadata": {},
   "outputs": [],
   "source": [
    "columns = ['Piece', 'Category', 'Image']\n",
    "df2 = pd.DataFrame(columns = columns)\n",
    "\n",
    "for p in os.listdir(PATH):\n",
    "    #print(p)\n",
    "    if p.startswith('Piece'):\n",
    "        for t in ['Ok', 'Defects']:\n",
    "            for f in os.listdir(os.path.join(PATH,p,t)):\n",
    "                #print([p,t,f])\n",
    "                df_row = pd.DataFrame([[p,t,f]],columns = columns)\n",
    "                df2 = pd.concat([df2,df_row])"
   ]
  },
  {
   "cell_type": "code",
   "execution_count": 6,
   "id": "4ca32ae7-b61c-4db6-a921-eb89bf3cb141",
   "metadata": {},
   "outputs": [],
   "source": [
    "df_merge = pd.merge(df,df2, on=['Piece','Image'])"
   ]
  },
  {
   "cell_type": "code",
   "execution_count": 7,
   "id": "1787ce71-46bf-45ce-8228-977b4d9efa46",
   "metadata": {},
   "outputs": [],
   "source": [
    "df.to_csv('label_experts.csv')"
   ]
  },
  {
   "cell_type": "code",
   "execution_count": 8,
   "id": "34c8609f-b4f3-4d3a-abeb-f11a9e44a6b0",
   "metadata": {},
   "outputs": [
    {
     "data": {
      "text/html": [
       "<div>\n",
       "<style scoped>\n",
       "    .dataframe tbody tr th:only-of-type {\n",
       "        vertical-align: middle;\n",
       "    }\n",
       "\n",
       "    .dataframe tbody tr th {\n",
       "        vertical-align: top;\n",
       "    }\n",
       "\n",
       "    .dataframe thead th {\n",
       "        text-align: right;\n",
       "    }\n",
       "</style>\n",
       "<table border=\"1\" class=\"dataframe\">\n",
       "  <thead>\n",
       "    <tr style=\"text-align: right;\">\n",
       "      <th></th>\n",
       "      <th>Piece</th>\n",
       "      <th>Category_x</th>\n",
       "      <th>Image</th>\n",
       "      <th>Category_y</th>\n",
       "    </tr>\n",
       "  </thead>\n",
       "  <tbody>\n",
       "    <tr>\n",
       "      <th>0</th>\n",
       "      <td>Piece01</td>\n",
       "      <td>Defects</td>\n",
       "      <td>foto211.tif</td>\n",
       "      <td>Defects</td>\n",
       "    </tr>\n",
       "    <tr>\n",
       "      <th>1</th>\n",
       "      <td>Piece01</td>\n",
       "      <td>Defects</td>\n",
       "      <td>foto316.tif</td>\n",
       "      <td>Defects</td>\n",
       "    </tr>\n",
       "    <tr>\n",
       "      <th>2</th>\n",
       "      <td>Piece01</td>\n",
       "      <td>Defects</td>\n",
       "      <td>foto284.tif</td>\n",
       "      <td>Defects</td>\n",
       "    </tr>\n",
       "    <tr>\n",
       "      <th>3</th>\n",
       "      <td>Piece01</td>\n",
       "      <td>Defects</td>\n",
       "      <td>foto359.tif</td>\n",
       "      <td>Defects</td>\n",
       "    </tr>\n",
       "    <tr>\n",
       "      <th>4</th>\n",
       "      <td>Piece01</td>\n",
       "      <td>Defects</td>\n",
       "      <td>foto623.tif</td>\n",
       "      <td>Defects</td>\n",
       "    </tr>\n",
       "  </tbody>\n",
       "</table>\n",
       "</div>"
      ],
      "text/plain": [
       "     Piece Category_x        Image Category_y\n",
       "0  Piece01    Defects  foto211.tif    Defects\n",
       "1  Piece01    Defects  foto316.tif    Defects\n",
       "2  Piece01    Defects  foto284.tif    Defects\n",
       "3  Piece01    Defects  foto359.tif    Defects\n",
       "4  Piece01    Defects  foto623.tif    Defects"
      ]
     },
     "execution_count": 8,
     "metadata": {},
     "output_type": "execute_result"
    }
   ],
   "source": [
    "df_merge.head()"
   ]
  },
  {
   "cell_type": "code",
   "execution_count": 9,
   "id": "fbb6d79f-98ca-4de1-9791-160b7501ede2",
   "metadata": {},
   "outputs": [
    {
     "name": "stdout",
     "output_type": "stream",
     "text": [
      "Cohen's kappa: 0.8793130440227942\n"
     ]
    }
   ],
   "source": [
    "from sklearn.metrics import cohen_kappa_score\n",
    "\n",
    "# merged es tu DataFrame con las columnas de etiquetas de los dos anotadores\n",
    "kappa = cohen_kappa_score(df_merge['Category_x'], df_merge['Category_y'])\n",
    "print(\"Cohen's kappa:\", kappa)"
   ]
  },
  {
   "cell_type": "code",
   "execution_count": null,
   "id": "6881b7e7-f0fa-46a2-a583-5ed90fa0a47e",
   "metadata": {},
   "outputs": [],
   "source": []
  },
  {
   "cell_type": "code",
   "execution_count": null,
   "id": "1e9ca9b4-5864-4f5e-a3c5-550522bacde6",
   "metadata": {},
   "outputs": [],
   "source": []
  }
 ],
 "metadata": {
  "kernelspec": {
   "display_name": "Python 3 (ipykernel)",
   "language": "python",
   "name": "python3"
  },
  "language_info": {
   "codemirror_mode": {
    "name": "ipython",
    "version": 3
   },
   "file_extension": ".py",
   "mimetype": "text/x-python",
   "name": "python",
   "nbconvert_exporter": "python",
   "pygments_lexer": "ipython3",
   "version": "3.10.15"
  }
 },
 "nbformat": 4,
 "nbformat_minor": 5
}
